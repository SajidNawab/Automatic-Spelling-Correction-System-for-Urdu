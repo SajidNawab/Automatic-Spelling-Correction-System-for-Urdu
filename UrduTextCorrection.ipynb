{
 "cells": [
  {
   "cell_type": "code",
   "execution_count": null,
   "metadata": {},
   "outputs": [],
   "source": [
    "# Function to split a text file into words\n",
    "def split_urdu_dictionary(file_path):\n",
    "    urdu_words = []\n",
    "    with open(file_path, 'r', encoding='utf-8') as file:\n",
    "        for line in file:\n",
    "            urdu_words.extend(line.strip().split())\n",
    "    return urdu_words"
   ]
  },
  {
   "cell_type": "code",
   "execution_count": null,
   "metadata": {},
   "outputs": [],
   "source": [
    "# Function to check for spelling errors in Urdu words\n",
    "def spell_check_urdu_word(word, dictionary):\n",
    "    if word in dictionary:\n",
    "        return \"CORRECT\"\n",
    "    \n",
    "    for dict_word in dictionary:\n",
    "        if len(dict_word) == len(word):\n",
    "            # Check for one letter omitted\n",
    "            if sum(a != b for a, b in zip(dict_word, word)) == 1:\n",
    "                return f\"ONE LETTER OMITTED FROM {dict_word}\"\n",
    "            \n",
    "            # Check for one letter added\n",
    "            if sum(a != b for a, b in zip(dict_word, word)) == -1:\n",
    "                return f\"ONE LETTER ADDED TO {dict_word}\"\n",
    "            \n",
    "            # Check for one letter different\n",
    "            if sum(a != b for a, b in zip(dict_word, word)) == 1:\n",
    "                return f\"ONE LETTER DIFFERENT FROM {dict_word}\"\n",
    "            \n",
    "            # Check for two letters transposed\n",
    "            if sum(a != b for a, b in zip(dict_word, word)) == 2:\n",
    "                return f\"TWO LETTERS TRANSPOSED IN {dict_word}\"\n",
    "    \n",
    "    return \"UNKNOWN\""
   ]
  },
  {
   "cell_type": "code",
   "execution_count": null,
   "metadata": {},
   "outputs": [],
   "source": [
    "# Paths to your two Urdu dictionary text files and the file with errors\n",
    "file1_path = 'bigram_words.txt'\n",
    "file2_path = 'words.txt'\n",
    "error_file_path = 'error_words_urdu.txt'"
   ]
  },
  {
   "cell_type": "code",
   "execution_count": null,
   "metadata": {},
   "outputs": [],
   "source": [
    "# Split and combine the content of both Urdu dictionary files into a single dictionary\n",
    "dict1_words = split_urdu_dictionary(file1_path)\n",
    "dict2_words = split_urdu_dictionary(file2_path)\n",
    "combined_dict_urdu = set(dict1_words + dict2_words)"
   ]
  },
  {
   "cell_type": "code",
   "execution_count": null,
   "metadata": {},
   "outputs": [],
   "source": [
    "# Split and print the content of the Urdu error file\n",
    "error_words = split_urdu_dictionary(error_file_path)"
   ]
  },
  {
   "cell_type": "code",
   "execution_count": null,
   "metadata": {},
   "outputs": [],
   "source": [
    "# Check each error word against the combined dictionary and display the result\n",
    "for error_word in error_words:\n",
    "    result = spell_check_urdu_word(error_word, combined_dict_urdu)\n",
    "    print(f\"{error_word}  {result}\")"
   ]
  }
 ],
 "metadata": {
  "kernelspec": {
   "display_name": "Python 3",
   "language": "python",
   "name": "python3"
  },
  "language_info": {
   "codemirror_mode": {
    "name": "ipython",
    "version": 3
   },
   "file_extension": ".py",
   "mimetype": "text/x-python",
   "name": "python",
   "nbconvert_exporter": "python",
   "pygments_lexer": "ipython3",
   "version": "3.7.4"
  }
 },
 "nbformat": 4,
 "nbformat_minor": 2
}
